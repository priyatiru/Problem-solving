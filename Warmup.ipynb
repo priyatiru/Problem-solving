{
  "nbformat": 4,
  "nbformat_minor": 0,
  "metadata": {
    "colab": {
      "name": "Warmup.ipynb",
      "provenance": [],
      "collapsed_sections": [],
      "authorship_tag": "ABX9TyM+lQIg03EQqF11PngB6SUh",
      "include_colab_link": true
    },
    "kernelspec": {
      "name": "python3",
      "display_name": "Python 3"
    }
  },
  "cells": [
    {
      "cell_type": "markdown",
      "metadata": {
        "id": "view-in-github",
        "colab_type": "text"
      },
      "source": [
        "<a href=\"https://colab.research.google.com/github/modem0011/Problem-solving/blob/master/Warmup.ipynb\" target=\"_parent\"><img src=\"https://colab.research.google.com/assets/colab-badge.svg\" alt=\"Open In Colab\"/></a>"
      ]
    },
    {
      "cell_type": "code",
      "metadata": {
        "id": "3exKeIe1Oj5E",
        "colab_type": "code",
        "colab": {
          "base_uri": "https://localhost:8080/",
          "height": 68
        },
        "outputId": "4c6129ab-46da-49a2-9f2e-35b0125af390"
      },
      "source": [
        "def solveMeFirst(a,b):\n",
        "\treturn a+b\n",
        "\n",
        "\n",
        "num1 = int(input())\n",
        "num2 = int(input())\n",
        "res = solveMeFirst(num1,num2)\n",
        "print(res)\n"
      ],
      "execution_count": null,
      "outputs": [
        {
          "output_type": "stream",
          "text": [
            "2\n",
            "3\n",
            "5\n"
          ],
          "name": "stdout"
        }
      ]
    },
    {
      "cell_type": "code",
      "metadata": {
        "id": "dUc-gMFfptLk",
        "colab_type": "code",
        "colab": {
          "base_uri": "https://localhost:8080/",
          "height": 68
        },
        "outputId": "6a1d6c9f-85af-4717-c920-53828b8a24f1"
      },
      "source": [
        "#!/bin/python3\n",
        "\n",
        "import os\n",
        "import sys\n",
        "\n",
        "#\n",
        "# Complete the simpleArraySum function below.\n",
        "#\n",
        "def simpleArraySum(ar):\n",
        "    return sum(ar)\n",
        "\n",
        "if __name__ == '__main__':\n",
        "    \n",
        "\n",
        "    ar_count = int(input())\n",
        "\n",
        "    ar = list(map(int, input().rstrip().split()))\n",
        "\n",
        "    result = simpleArraySum(ar)\n",
        "    print(result)\n",
        "\n",
        "\n"
      ],
      "execution_count": null,
      "outputs": [
        {
          "output_type": "stream",
          "text": [
            "2\n",
            "2 4\n",
            "6\n"
          ],
          "name": "stdout"
        }
      ]
    },
    {
      "cell_type": "code",
      "metadata": {
        "id": "q3NxOd-euoL9",
        "colab_type": "code",
        "colab": {
          "base_uri": "https://localhost:8080/",
          "height": 68
        },
        "outputId": "0961d687-d68f-4df9-f094-80bd1772e041"
      },
      "source": [
        "#!/bin/python3\n",
        "\n",
        "import math\n",
        "import os\n",
        "import random\n",
        "import re\n",
        "import sys\n",
        "\n",
        "# Complete the compareTriplets function below.\n",
        "def compareTriplets(a, b):\n",
        "    m=0\n",
        "    n=0\n",
        "    for i in range(len(a)):\n",
        "        if a[i]>b[i]:\n",
        "            m=m+1\n",
        "        elif a[i] < b[i] :\n",
        "            n=n+1\n",
        "        else:\n",
        "            m=m+0      \n",
        "    return m,n        \n",
        "\n",
        "\n",
        "\n",
        "if __name__ == '__main__':\n",
        "    \n",
        "\n",
        "    a = list(map(int, input().rstrip().split()))\n",
        "\n",
        "    b = list(map(int, input().rstrip().split()))\n",
        "\n",
        "    result = compareTriplets(a, b)\n",
        "\n",
        "    print(\" \".join(map(str,result)))\n",
        "\n",
        "\n"
      ],
      "execution_count": null,
      "outputs": [
        {
          "output_type": "stream",
          "text": [
            "3 4\n",
            "2 3\n",
            "2 0\n"
          ],
          "name": "stdout"
        }
      ]
    },
    {
      "cell_type": "code",
      "metadata": {
        "id": "JGzxCdkYvS26",
        "colab_type": "code",
        "colab": {
          "base_uri": "https://localhost:8080/",
          "height": 68
        },
        "outputId": "a08df04d-ceda-4d42-e091-2b2543daa3c6"
      },
      "source": [
        "#!/bin/python3\n",
        "\n",
        "import math\n",
        "import os\n",
        "import random\n",
        "import re\n",
        "import sys\n",
        "\n",
        "# Complete the aVeryBigSum function below.\n",
        "def aVeryBigSum(ar):\n",
        "    summ=0\n",
        "    for i in ar:\n",
        "        summ=summ+i\n",
        "    return summ    \n",
        "\n",
        "\n",
        "if __name__ == '__main__':\n",
        "    \n",
        "\n",
        "    ar_count = int(input())\n",
        "\n",
        "    ar = list(map(int, input().rstrip().split()))\n",
        "\n",
        "    result = aVeryBigSum(ar)\n",
        "\n",
        "    print(result)\n"
      ],
      "execution_count": null,
      "outputs": [
        {
          "output_type": "stream",
          "text": [
            "2\n",
            "23232 42442\n",
            "65674\n"
          ],
          "name": "stdout"
        }
      ]
    },
    {
      "cell_type": "code",
      "metadata": {
        "id": "PY4RdtYxwe-J",
        "colab_type": "code",
        "colab": {
          "base_uri": "https://localhost:8080/",
          "height": 85
        },
        "outputId": "2c6fa82e-24cb-4b46-bde2-718b2c95d38e"
      },
      "source": [
        "#!/bin/python3\n",
        "\n",
        "import math\n",
        "import os\n",
        "import random\n",
        "import re\n",
        "import sys\n",
        "\n",
        "#\n",
        "# Complete the 'diagonalDifference' function below.\n",
        "#\n",
        "# The function is expected to return an INTEGER.\n",
        "# The function accepts 2D_INTEGER_ARRAY arr as parameter.\n",
        "#\n",
        "\n",
        "def diagonalDifference(arr):\n",
        "    summ=0\n",
        "    for i in range(n):\n",
        "        summ=summ + arr[i][i]\n",
        "    diff=0\n",
        "    for i in range(n):\n",
        "        diff=diff+arr[i][n-1-i]\n",
        "        \n",
        "    a=summ-diff\n",
        "    if a>=0:\n",
        "        return a\n",
        "    else:\n",
        "        return -a        \n",
        "       \n",
        "\n",
        "\n",
        "\n",
        "\n",
        "\n",
        "\n",
        "\n",
        "if __name__ == '__main__':\n",
        "\n",
        "    n = int(input().strip())\n",
        "\n",
        "    arr = []\n",
        "\n",
        "    for _ in range(n):\n",
        "        arr.append(list(map(int, input().rstrip().split())))\n",
        "\n",
        "    result = diagonalDifference(arr)\n",
        "\n",
        "    print(result)\n"
      ],
      "execution_count": null,
      "outputs": [
        {
          "output_type": "stream",
          "text": [
            "2\n",
            "2 4\n",
            "5 6\n",
            "1\n"
          ],
          "name": "stdout"
        }
      ]
    },
    {
      "cell_type": "code",
      "metadata": {
        "id": "j8bMQH8_w004",
        "colab_type": "code",
        "colab": {
          "base_uri": "https://localhost:8080/",
          "height": 102
        },
        "outputId": "df49458d-aa2b-4c78-834c-f4ec029d76b8"
      },
      "source": [
        "#!/bin/python3\n",
        "\n",
        "import math\n",
        "import os\n",
        "import random\n",
        "import re\n",
        "import sys\n",
        "\n",
        "# Complete the plusMinus function below.\n",
        "def plusMinus(arr):\n",
        "    p=0\n",
        "    ne=0\n",
        "    z=0\n",
        "    for i in arr:\n",
        "        if i>0:\n",
        "            p=p+1\n",
        "        elif i<0:\n",
        "            ne=ne+1\n",
        "        else:\n",
        "            z=z+1       \n",
        "    print(format(p/n,\".6f\"))\n",
        "    print(format(ne/n,\".6f\"))\n",
        "    print(format(z/n,\".6f\"))\n",
        "\n",
        "\n",
        "\n",
        "if __name__ == '__main__':\n",
        "    n = int(input())\n",
        "\n",
        "    arr = list(map(int, input().rstrip().split()))\n",
        "\n",
        "    plusMinus(arr)\n"
      ],
      "execution_count": null,
      "outputs": [
        {
          "output_type": "stream",
          "text": [
            "3\n",
            "2 4 5\n",
            "1.000000\n",
            "0.000000\n",
            "0.000000\n"
          ],
          "name": "stdout"
        }
      ]
    },
    {
      "cell_type": "code",
      "metadata": {
        "id": "youM7aWrxX94",
        "colab_type": "code",
        "colab": {
          "base_uri": "https://localhost:8080/",
          "height": 102
        },
        "outputId": "5fbb4bbd-fe92-487d-a996-aeafc733e276"
      },
      "source": [
        "#!/bin/python3\n",
        "\n",
        "import math\n",
        "import os\n",
        "import random\n",
        "import re\n",
        "import sys\n",
        "\n",
        "# Complete the staircase function below.\n",
        "def staircase(n):\n",
        "    string=\"#\"\n",
        "    for i in range(n):\n",
        "        print((string*(i+1)).rjust(n,\" \"))\n",
        "\n",
        "        \n",
        "\n",
        "if __name__ == '__main__':\n",
        "    n = int(input())\n",
        "\n",
        "    staircase(n)\n"
      ],
      "execution_count": null,
      "outputs": [
        {
          "output_type": "stream",
          "text": [
            "4\n",
            "   #\n",
            "  ##\n",
            " ###\n",
            "####\n"
          ],
          "name": "stdout"
        }
      ]
    },
    {
      "cell_type": "code",
      "metadata": {
        "id": "1AEglHFHx7qX",
        "colab_type": "code",
        "colab": {
          "base_uri": "https://localhost:8080/",
          "height": 51
        },
        "outputId": "6f362e9b-94ff-4266-a7b5-72fea78fe532"
      },
      "source": [
        "#!/bin/python3\n",
        "\n",
        "import math\n",
        "import os\n",
        "import random\n",
        "import re\n",
        "import sys\n",
        "\n",
        "# Complete the miniMaxSum function below.\n",
        "def miniMaxSum(arr):\n",
        "    arr.sort()\n",
        "    x=0\n",
        "    y=0\n",
        "    for i in range((len(arr))-1):\n",
        "        x=x+arr[i]\n",
        "    for i in range((len(arr))-1,0,-1):\n",
        "        y=y+arr[i]   \n",
        "    print(x,y)\n",
        "\n",
        "\n",
        "if __name__ == '__main__':\n",
        "    arr = list(map(int, input().rstrip().split()))\n",
        "\n",
        "    miniMaxSum(arr)\n"
      ],
      "execution_count": null,
      "outputs": [
        {
          "output_type": "stream",
          "text": [
            "3 5 8 2 4\n",
            "14 20\n"
          ],
          "name": "stdout"
        }
      ]
    },
    {
      "cell_type": "code",
      "metadata": {
        "id": "C-zt64YRyaNI",
        "colab_type": "code",
        "colab": {
          "base_uri": "https://localhost:8080/",
          "height": 68
        },
        "outputId": "92ade951-db1c-4db9-b43b-7c311dad6e3e"
      },
      "source": [
        "#!/bin/python3\n",
        "\n",
        "import math\n",
        "import os\n",
        "import random\n",
        "import re\n",
        "import sys\n",
        "\n",
        "# Complete the birthdayCakeCandles function below.\n",
        "def birthdayCakeCandles(ar):\n",
        "    r=set(ar)\n",
        "    r=list(r)\n",
        "    r.sort()\n",
        "    a=r[-1]\n",
        "    n=0\n",
        "    for i in ar:\n",
        "        if i == a:\n",
        "            n=n+1\n",
        "    return n\n",
        "\n",
        "if __name__ == '__main__':\n",
        "    \n",
        "\n",
        "    ar_count = int(input())\n",
        "\n",
        "    ar = list(map(int, input().rstrip().split()))\n",
        "\n",
        "    result = birthdayCakeCandles(ar)\n",
        "    print(result)"
      ],
      "execution_count": null,
      "outputs": [
        {
          "output_type": "stream",
          "text": [
            "3\n",
            "4 2 2\n",
            "1\n"
          ],
          "name": "stdout"
        }
      ]
    },
    {
      "cell_type": "code",
      "metadata": {
        "id": "JPlbbiTnyqkG",
        "colab_type": "code",
        "colab": {
          "base_uri": "https://localhost:8080/",
          "height": 51
        },
        "outputId": "6ccc983c-bc4d-4d7a-97bf-f28b111670dd"
      },
      "source": [
        "#!/bin/python3\n",
        "\n",
        "import os\n",
        "import sys\n",
        "\n",
        "#\n",
        "# Complete the timeConversion function below.\n",
        "#\n",
        "def timeConversion(s):\n",
        "    a=s[-2:]\n",
        "    b=s[:len(s)-2]\n",
        "    if a=='AM' and b[:2]=='12':\n",
        "        return '00'+b[2:]\n",
        "    elif a=='AM' and b[:2]!='12':\n",
        "        return b\n",
        "    elif a=='PM' and b[:2] == '12':\n",
        "        return b\n",
        "    else:\n",
        "        d=int(b[:2])\n",
        "        s=d+12\n",
        "        s=str(s)\n",
        "\n",
        "        return s + b[2:]\n",
        "\n",
        "if __name__ == '__main__':\n",
        "\n",
        "    s = input()\n",
        "\n",
        "    result = timeConversion(s)\n",
        "\n",
        "    print(result)"
      ],
      "execution_count": null,
      "outputs": [
        {
          "output_type": "stream",
          "text": [
            "03:10:33PM\n",
            "15:10:33\n"
          ],
          "name": "stdout"
        }
      ]
    },
    {
      "cell_type": "code",
      "metadata": {
        "id": "NXB7gVqgzDfz",
        "colab_type": "code",
        "colab": {}
      },
      "source": [
        ""
      ],
      "execution_count": null,
      "outputs": []
    }
  ]
}